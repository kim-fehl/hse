{
 "cells": [
  {
   "cell_type": "markdown",
   "metadata": {},
   "source": [
    "# Домашняя работа #5 по курсу NGS\n",
    "Выполнил: Ким Адамейко, группа АДБМ16, НИУ ВШЭ\n",
    "\n",
    "## Задание 1\n",
    "Визуализируйте выравнивание чтений из эксперимента (experiment.bed) и найдите пример сдвинутых кучек ридов по прямой и обратной цепи (хорошо выраженный пик).\n",
    "\n",
    "* Рабочий тул для визуализации bed-файлов: http://genomeview.org/\n",
    "* Для скорости можно отфильтровать bed-файл по одной хросомоме (grep -w)\n",
    "* Обратите внимание на упрощенный формат файла с выравниванием (bed)\n",
    "* Для наглядной визуализации - разрежьте файл с картированием на два, отдельно по + и по - нитям (см. для примера слайд 34)\n",
    "* Риды положены на геном человека, релиз hg18 - build36\n",
    "* Если вам не удается найти удачный пример пика вручную - воспользуйтесь результатами следующего задания и посмотрите где находятся пики, найденные MACS\n"
   ]
  },
  {
   "cell_type": "markdown",
   "metadata": {},
   "source": [
    "### Решение\n",
    "Скопируем файл с сервера и посмотрим на его содержимое:"
   ]
  },
  {
   "cell_type": "code",
   "execution_count": 66,
   "metadata": {
    "collapsed": true
   },
   "outputs": [],
   "source": [
    "ssh = 'ssh -p 9022 student@mg.uncb.iitp.ru'\n",
    "scp = 'scp -P 9022 student@mg.uncb.iitp.ru:'"
   ]
  },
  {
   "cell_type": "code",
   "execution_count": 4,
   "metadata": {},
   "outputs": [
    {
     "name": "stdout",
     "output_type": "stream",
     "text": [
      "experiment.bed                                100%  112MB 300.9KB/s   06:20    \n"
     ]
    }
   ],
   "source": [
    "!{scp}~/chipseq/experiment.bed ."
   ]
  },
  {
   "cell_type": "code",
   "execution_count": 35,
   "metadata": {
    "collapsed": true
   },
   "outputs": [],
   "source": [
    "def headtail(file, n=5):\n",
    "    ! head -n {n} {file}\n",
    "    print('...')\n",
    "    ! tail -n {n} {file}"
   ]
  },
  {
   "cell_type": "code",
   "execution_count": 36,
   "metadata": {},
   "outputs": [
    {
     "name": "stdout",
     "output_type": "stream",
     "text": [
      "chr1\t7324\t7359\t0\t2\t+\n",
      "chr1\t522319\t522354\t0\t3\t-\n",
      "chr1\t553256\t553291\t0\t3\t-\n",
      "chr1\t699985\t700020\t0\t3\t+\n",
      "chr1\t745587\t745622\t0\t0\t+\n",
      "...\n",
      "chrY\t57429336\t57429371\t0\t0\t-\n",
      "chrY\t57429336\t57429371\t0\t1\t-\n",
      "chrY\t57429355\t57429390\t0\t2\t+\n",
      "chrY\t57429690\t57429725\t0\t0\t-\n",
      "chrY\t57435410\t57435445\t0\t0\t-\n"
     ]
    }
   ],
   "source": [
    "headtail('./experiment.bed')"
   ]
  },
  {
   "cell_type": "markdown",
   "metadata": {},
   "source": [
    "[Спецификация формата bed](https://genome.ucsc.edu/FAQ/FAQformat.html#format1) говорит, что первые три поля -- обязательные: название хромосомы, начало и конец рида; следующие поля опциональные и соответствуют отображаемому имени, очкам (в диапазоне [0, 1000]), цепи. Насколько я понял, в данном случае число очков -- это просто число ридов. Итак, какая же хромосома досталась мне?"
   ]
  },
  {
   "cell_type": "code",
   "execution_count": 15,
   "metadata": {},
   "outputs": [
    {
     "name": "stdout",
     "output_type": "stream",
     "text": [
      "chr2\n"
     ]
    }
   ],
   "source": [
    "chr = 'chr{}'.format(sum(list(map(lambda c: ord(c) - ord('A'), list('ADAMEYKO')))) % 22 + 1)\n",
    "print(chr)"
   ]
  },
  {
   "cell_type": "markdown",
   "metadata": {},
   "source": [
    "Отфильтруем строки, относящиеся только к этой хромосоме. Параметр `-w` позволяет искать только слово целиком."
   ]
  },
  {
   "cell_type": "code",
   "execution_count": 37,
   "metadata": {},
   "outputs": [
    {
     "name": "stdout",
     "output_type": "stream",
     "text": [
      "chr2\t836\t871\t0\t1\t-\n",
      "chr2\t1339\t1374\t0\t3\t+\n",
      "chr2\t4491\t4526\t0\t1\t+\n",
      "chr2\t4783\t4818\t0\t4\t+\n",
      "chr2\t4783\t4818\t0\t0\t+\n",
      "...\n",
      "chr2\t242689965\t242690000\t0\t2\t-\n",
      "chr2\t242689965\t242690000\t0\t0\t-\n",
      "chr2\t242691061\t242691096\t0\t3\t+\n",
      "chr2\t242694803\t242694838\t0\t2\t-\n",
      "chr2\t242713832\t242713867\t0\t0\t+\n"
     ]
    }
   ],
   "source": [
    "! grep -w {chr} './experiment.bed' > './exp_chr.bed'\n",
    "headtail('./exp_chr.bed')"
   ]
  },
  {
   "cell_type": "markdown",
   "metadata": {},
   "source": [
    "Теперь это подмножество строк разобьем ещё на два, в соответствии с цепью (+/-). \n",
    "Параметр `-e` защищает регулярные выражения, начинающиеся с дефиса, иначе они будут поняты как параметры."
   ]
  },
  {
   "cell_type": "code",
   "execution_count": 40,
   "metadata": {},
   "outputs": [
    {
     "name": "stdout",
     "output_type": "stream",
     "text": [
      "MINUS STRAND\n",
      "chr2\t836\t871\t0\t1\t-\n",
      "chr2\t4787\t4822\t0\t0\t-\n",
      "chr2\t5674\t5709\t0\t1\t-\n",
      "chr2\t7343\t7378\t0\t0\t-\n",
      "chr2\t7343\t7378\t0\t1\t-\n",
      "...\n",
      "chr2\t242689122\t242689157\t0\t3\t-\n",
      "chr2\t242689587\t242689622\t0\t1\t-\n",
      "chr2\t242689965\t242690000\t0\t2\t-\n",
      "chr2\t242689965\t242690000\t0\t0\t-\n",
      "chr2\t242694803\t242694838\t0\t2\t-\n",
      "\n",
      "PLUS STRAND\n",
      "chr2\t1339\t1374\t0\t3\t+\n",
      "chr2\t4491\t4526\t0\t1\t+\n",
      "chr2\t4783\t4818\t0\t4\t+\n",
      "chr2\t4783\t4818\t0\t0\t+\n",
      "chr2\t7270\t7305\t0\t0\t+\n",
      "...\n",
      "chr2\t242666704\t242666739\t0\t2\t+\n",
      "chr2\t242683155\t242683190\t0\t1\t+\n",
      "chr2\t242688987\t242689022\t0\t5\t+\n",
      "chr2\t242691061\t242691096\t0\t3\t+\n",
      "chr2\t242713832\t242713867\t0\t0\t+\n"
     ]
    }
   ],
   "source": [
    "! grep -e '-$' './exp_chr.bed' > './exp_chr_minus.bed'\n",
    "! grep '\\+$' './exp_chr.bed' > './exp_chr_plus.bed'\n",
    "print('MINUS STRAND')\n",
    "headtail('./exp_chr_minus.bed')\n",
    "print('\\nPLUS STRAND')\n",
    "headtail('./exp_chr_plus.bed')"
   ]
  },
  {
   "cell_type": "markdown",
   "metadata": {},
   "source": [
    "Несколько \"пиков\", найденных глазами в GenomeView"
   ]
  },
  {
   "cell_type": "markdown",
   "metadata": {},
   "source": [
    "![](genome_view4.png)\n",
    "![](genome_view5.png)\n",
    "![](genome_view6.png)"
   ]
  },
  {
   "cell_type": "markdown",
   "metadata": {},
   "source": [
    "## Задание 2\n",
    "* Запустите MACS1 на тестовых данных:\n",
    "  \n",
    "  `macs -c control.bed -t experiment.bed -g hs -n [шаблон_имен_файлов_результатов]`\n",
    "  \n",
    "  Формы пиков можно достать путем `-w` или `-B` - получится bedGraph или wiggle (осторожно, огромные файлы). \n",
    "  `-g hs` устанавливает эффективный размер генома (hs = homo sapiens).\n",
    "  > Обратите внимание на файл .r в результатах - это \"модель\" кластеризации ридов, построенная MACS (можно сконвертировать в pdf с помощью R и посмотреть)\n",
    "\n",
    "* Запустите MACS2 на тестовых данных:\n",
    "\n",
    "  `macs2 callpeak -t experiment.bed -c control.bed -g hs -n [аналогично_но_не_затрите_файлы]`\n",
    "  \n",
    "\n",
    "* Грубо сравните результаты MACS1 и MACS2 путем пересечения интервалов (сколько пиков хоть как-то пересекается?):\n",
    "  \n",
    "  `bedtools intersect -a [тут_пики_macs14] -b [тут_пики_macs2]`\n"
   ]
  },
  {
   "cell_type": "markdown",
   "metadata": {},
   "source": [
    "### Решение\n",
    "Для начала создам отдельную папку на сервере и проверю, что данные на месте"
   ]
  },
  {
   "cell_type": "code",
   "execution_count": 60,
   "metadata": {},
   "outputs": [
    {
     "name": "stdout",
     "output_type": "stream",
     "text": [
      "arch.zip\r\n",
      "chipmunk.jar\r\n",
      "control.bed\r\n",
      "experiment.bed\r\n",
      "hg18\r\n",
      "macs1\r\n",
      "sarus.jar\r\n"
     ]
    }
   ],
   "source": [
    "!{ssh} mkdir -p './adameyko' \n",
    "!{ssh} ls './chipseq'         "
   ]
  },
  {
   "cell_type": "code",
   "execution_count": 62,
   "metadata": {
    "scrolled": false
   },
   "outputs": [
    {
     "name": "stdout",
     "output_type": "stream",
     "text": [
      "INFO  @ Sat, 16 Dec 2017 04:20:00: \n",
      "# ARGUMENTS LIST:\n",
      "# name = ./adameyko/task2_macs14\n",
      "# format = AUTO\n",
      "# ChIP-seq file = /home/student/chipseq/experiment.bed\n",
      "# control file = /home/student/chipseq/control.bed\n",
      "# effective genome size = 2.70e+09\n",
      "# band width = 300\n",
      "# model fold = 10,30\n",
      "# pvalue cutoff = 1.00e-05\n",
      "# Large dataset will be scaled towards smaller dataset.\n",
      "# Range for calculating regional lambda is: 1000 bps and 10000 bps\n",
      " \n",
      "INFO  @ Sat, 16 Dec 2017 04:20:00: #1 read tag files... \n",
      "INFO  @ Sat, 16 Dec 2017 04:20:00: #1 read treatment tags... \n",
      "INFO  @ Sat, 16 Dec 2017 04:20:00: Detected format is: BED \n",
      "INFO  @ Sat, 16 Dec 2017 04:20:05:  1000000 \n",
      "INFO  @ Sat, 16 Dec 2017 04:20:11:  2000000 \n",
      "INFO  @ Sat, 16 Dec 2017 04:20:17:  3000000 \n",
      "INFO  @ Sat, 16 Dec 2017 04:20:22: #1.2 read input tags... \n",
      "INFO  @ Sat, 16 Dec 2017 04:20:22: Detected format is: BED \n",
      "INFO  @ Sat, 16 Dec 2017 04:20:28:  1000000 \n",
      "INFO  @ Sat, 16 Dec 2017 04:20:34:  2000000 \n",
      "INFO  @ Sat, 16 Dec 2017 04:20:40:  3000000 \n",
      "INFO  @ Sat, 16 Dec 2017 04:20:45:  4000000 \n",
      "INFO  @ Sat, 16 Dec 2017 04:20:51:  5000000 \n",
      "INFO  @ Sat, 16 Dec 2017 04:20:53: #1 tag size is determined as 35 bps \n",
      "INFO  @ Sat, 16 Dec 2017 04:20:53: #1 tag size = 35 \n",
      "INFO  @ Sat, 16 Dec 2017 04:20:53: #1  total tags in treatment: 3909805 \n",
      "INFO  @ Sat, 16 Dec 2017 04:20:53: #1 user defined the maximum tags... \n",
      "INFO  @ Sat, 16 Dec 2017 04:20:53: #1 filter out redundant tags at the same location and the same strand by allowing at most 1 tag(s) \n",
      "INFO  @ Sat, 16 Dec 2017 04:20:53: #1  tags after filtering in treatment: 3571176 \n",
      "INFO  @ Sat, 16 Dec 2017 04:20:53: #1  Redundant rate of treatment: 0.09 \n",
      "INFO  @ Sat, 16 Dec 2017 04:20:53: #1  total tags in control: 5233683 \n",
      "INFO  @ Sat, 16 Dec 2017 04:20:53: #1 user defined the maximum tags... \n",
      "INFO  @ Sat, 16 Dec 2017 04:20:53: #1 filter out redundant tags at the same location and the same strand by allowing at most 1 tag(s) \n",
      "INFO  @ Sat, 16 Dec 2017 04:20:55: #1  tags after filtering in control: 4438998 \n",
      "INFO  @ Sat, 16 Dec 2017 04:20:55: #1  Redundant rate of control: 0.15 \n",
      "INFO  @ Sat, 16 Dec 2017 04:20:55: #1 finished! \n",
      "INFO  @ Sat, 16 Dec 2017 04:20:55: #2 Build Peak Model... \n",
      "INFO  @ Sat, 16 Dec 2017 04:21:04: #2 number of paired peaks: 11861 \n",
      "INFO  @ Sat, 16 Dec 2017 04:21:04: #2 finished! \n",
      "INFO  @ Sat, 16 Dec 2017 04:21:04: #2 predicted fragment length is 119 bps \n",
      "INFO  @ Sat, 16 Dec 2017 04:21:04: #2.2 Generate R script for model : ./adameyko/task2_macs14_model.r \n",
      "INFO  @ Sat, 16 Dec 2017 04:21:04: #3 Call peaks... \n",
      "INFO  @ Sat, 16 Dec 2017 04:21:04: #3 shift treatment data \n",
      "INFO  @ Sat, 16 Dec 2017 04:21:05: #3 merge +/- strand of treatment data \n",
      "INFO  @ Sat, 16 Dec 2017 04:21:05: #3 call peak candidates \n",
      "INFO  @ Sat, 16 Dec 2017 04:21:13: #3 shift control data \n",
      "INFO  @ Sat, 16 Dec 2017 04:21:13: #3 merge +/- strand of control data \n",
      "INFO  @ Sat, 16 Dec 2017 04:21:14: #3 call negative peak candidates \n",
      "INFO  @ Sat, 16 Dec 2017 04:21:21: #3 use control data to filter peak candidates... \n",
      "INFO  @ Sat, 16 Dec 2017 04:21:25: #3 Finally, 13591 peaks are called! \n",
      "INFO  @ Sat, 16 Dec 2017 04:21:25: #3 find negative peaks by swapping treat and control \n",
      "INFO  @ Sat, 16 Dec 2017 04:21:29: #3 Finally, 594 peaks are called! \n",
      "INFO  @ Sat, 16 Dec 2017 04:21:29: #4 Write output xls file... ./adameyko/task2_macs14_peaks.xls \n",
      "INFO  @ Sat, 16 Dec 2017 04:21:29: #4 Write peak bed file... ./adameyko/task2_macs14_peaks.bed \n",
      "INFO  @ Sat, 16 Dec 2017 04:21:29: #4 Write summits bed file... ./adameyko/task2_macs14_summits.bed \n",
      "INFO  @ Sat, 16 Dec 2017 04:21:29: #4 Write output xls file for negative peaks... ./adameyko/task2_macs14_negative_peaks.xls \n",
      "INFO  @ Sat, 16 Dec 2017 04:21:29: #5 Done! Check the output files! \n"
     ]
    }
   ],
   "source": [
    "!{ssh} '~/chipseq/macs1/usr/bin/macs14' -c '~/chipseq/control.bed' -t '~/chipseq/experiment.bed' -g hs -n './adameyko/task2_macs14'"
   ]
  },
  {
   "cell_type": "code",
   "execution_count": 63,
   "metadata": {
    "scrolled": true
   },
   "outputs": [
    {
     "name": "stdout",
     "output_type": "stream",
     "text": [
      "chr1\t858356\t858641\tMACS_peak_1\t51.00\r\n",
      "chr1\t998954\t999229\tMACS_peak_2\t74.39\r\n",
      "chr1\t1050020\t1050286\tMACS_peak_3\t152.00\r\n",
      "chr1\t1684287\t1684577\tMACS_peak_4\t89.70\r\n",
      "chr1\t1775030\t1775371\tMACS_peak_5\t51.08\r\n",
      "chr1\t1780681\t1780965\tMACS_peak_6\t61.17\r\n",
      "chr1\t1923146\t1923449\tMACS_peak_7\t164.87\r\n",
      "chr1\t2110969\t2111170\tMACS_peak_8\t67.53\r\n",
      "chr1\t2111407\t2111732\tMACS_peak_9\t71.96\r\n",
      "chr1\t2232813\t2233120\tMACS_peak_10\t63.91\r\n"
     ]
    }
   ],
   "source": [
    "!{ssh} head ./adameyko/task2_macs14_peaks.bed "
   ]
  },
  {
   "cell_type": "code",
   "execution_count": 67,
   "metadata": {},
   "outputs": [
    {
     "name": "stdout",
     "output_type": "stream",
     "text": [
      "task2_macs14_model.pdf                        100%   21KB  21.4KB/s   00:00    \n"
     ]
    }
   ],
   "source": [
    "!{ssh} r ./adameyko/task2_macs14_model.r \n",
    "!{scp}~/adameyko/task2_macs14_model.pdf ."
   ]
  },
  {
   "cell_type": "code",
   "execution_count": 75,
   "metadata": {},
   "outputs": [
    {
     "data": {
      "text/html": [
       "\n",
       "        <iframe\n",
       "            width=\"400\"\n",
       "            height=\"430\"\n",
       "            src=\"./task2_macs14_model.pdf\"\n",
       "            frameborder=\"0\"\n",
       "            allowfullscreen\n",
       "        ></iframe>\n",
       "        "
      ],
      "text/plain": [
       "<IPython.lib.display.IFrame at 0x7fead2711fd0>"
      ]
     },
     "execution_count": 75,
     "metadata": {},
     "output_type": "execute_result"
    }
   ],
   "source": [
    "from IPython.display import IFrame\n",
    "IFrame('./task2_macs14_model.pdf', width=400, height=430)"
   ]
  },
  {
   "cell_type": "code",
   "execution_count": 65,
   "metadata": {},
   "outputs": [
    {
     "name": "stdout",
     "output_type": "stream",
     "text": [
      "INFO  @ Sat, 16 Dec 2017 04:46:45: \n",
      "# ARGUMENTS LIST:\n",
      "# name = ./adameyko/task2_macs2\n",
      "# format = AUTO\n",
      "# ChIP-seq file = /home/student/chipseq/experiment.bed\n",
      "# control file = /home/student/chipseq/control.bed\n",
      "# effective genome size = 2.70e+09\n",
      "# band width = 300\n",
      "# model fold = 10,30\n",
      "# qvalue cutoff = 1.00e-02\n",
      "# Larger dataset will be scaled towards smaller dataset.\n",
      "# Range for calculating regional lambda is: 1000 bps and 10000 bps\n",
      "# Broad region calling is off\n",
      " \n",
      "INFO  @ Sat, 16 Dec 2017 04:46:45: #1 read tag files... \n",
      "INFO  @ Sat, 16 Dec 2017 04:46:45: #1 read treatment tags... \n",
      "INFO  @ Sat, 16 Dec 2017 04:46:45: Detected format is: BED \n",
      "INFO  @ Sat, 16 Dec 2017 04:46:49:  1000000 \n",
      "INFO  @ Sat, 16 Dec 2017 04:46:53:  2000000 \n",
      "INFO  @ Sat, 16 Dec 2017 04:46:56:  3000000 \n",
      "INFO  @ Sat, 16 Dec 2017 04:47:00: #1.2 read input tags... \n",
      "INFO  @ Sat, 16 Dec 2017 04:47:00: Detected format is: BED \n",
      "INFO  @ Sat, 16 Dec 2017 04:47:03:  1000000 \n",
      "INFO  @ Sat, 16 Dec 2017 04:47:07:  2000000 \n",
      "INFO  @ Sat, 16 Dec 2017 04:47:10:  3000000 \n",
      "INFO  @ Sat, 16 Dec 2017 04:47:14:  4000000 \n",
      "INFO  @ Sat, 16 Dec 2017 04:47:17:  5000000 \n",
      "INFO  @ Sat, 16 Dec 2017 04:47:18: #1 tag size is determined as 35 bps \n",
      "INFO  @ Sat, 16 Dec 2017 04:47:19: #1 tag size = 35 \n",
      "INFO  @ Sat, 16 Dec 2017 04:47:19: #1  total tags in treatment: 3909805 \n",
      "INFO  @ Sat, 16 Dec 2017 04:47:19: #1 calculate max duplicate tags in single position based on binomal distribution... \n",
      "INFO  @ Sat, 16 Dec 2017 04:47:19: #1  max_dup_tags based on binomal = 1 \n",
      "INFO  @ Sat, 16 Dec 2017 04:47:19: #1 filter out redundant tags at the same location and the same strand by allowing at most 1 tag(s) \n",
      "INFO  @ Sat, 16 Dec 2017 04:47:20: #1  tags after filtering in treatment: 3571176 \n",
      "INFO  @ Sat, 16 Dec 2017 04:47:20: #1  Redundant rate of treatment: 0.09 \n",
      "INFO  @ Sat, 16 Dec 2017 04:47:20: #1  total tags in control: 5233683 \n",
      "INFO  @ Sat, 16 Dec 2017 04:47:20: #1  for control, calculate max duplicate tags in single position based on binomal distribution... \n",
      "INFO  @ Sat, 16 Dec 2017 04:47:20: #1  max_dup_tags based on binomal = 1 \n",
      "INFO  @ Sat, 16 Dec 2017 04:47:20: #1 filter out redundant tags at the same location and the same strand by allowing at most 1 tag(s) \n",
      "INFO  @ Sat, 16 Dec 2017 04:47:23: #1  tags after filtering in control: 4438998 \n",
      "INFO  @ Sat, 16 Dec 2017 04:47:23: #1  Redundant rate of control: 0.15 \n",
      "INFO  @ Sat, 16 Dec 2017 04:47:23: #1 finished! \n",
      "INFO  @ Sat, 16 Dec 2017 04:47:23: #2 Build Peak Model... \n",
      "INFO  @ Sat, 16 Dec 2017 04:47:32: #2 number of paired peaks: 11861 \n",
      "INFO  @ Sat, 16 Dec 2017 04:47:33: #2 finished! \n",
      "INFO  @ Sat, 16 Dec 2017 04:47:33: #2 predicted fragment length is 119 bps \n",
      "INFO  @ Sat, 16 Dec 2017 04:47:33: #2.2 Generate R script for model : ./adameyko/task2_macs2_model.r \n",
      "INFO  @ Sat, 16 Dec 2017 04:47:33: #3 Call peaks... \n",
      "INFO  @ Sat, 16 Dec 2017 04:47:33: #3 pileup treatment data by extending tags towards 3' to 119 length \n",
      "INFO  @ Sat, 16 Dec 2017 04:47:47: #3 calculate d local lambda for control data \n",
      "INFO  @ Sat, 16 Dec 2017 04:48:08: #3 calculate small local lambda for control data \n",
      "INFO  @ Sat, 16 Dec 2017 04:49:03: #3 calculate large local lambda for control data \n",
      "INFO  @ Sat, 16 Dec 2017 04:50:27: #3 Build score track ... \n",
      "INFO  @ Sat, 16 Dec 2017 04:53:16: #3 Calculate qvalues ... \n",
      "INFO  @ Sat, 16 Dec 2017 04:56:57: #3 Saving p-value to q-value table ... \n",
      "INFO  @ Sat, 16 Dec 2017 04:56:58: #3 Assign qvalues ... \n",
      "INFO  @ Sat, 16 Dec 2017 04:58:40: #3 Call peaks with given -log10qvalue cutoff: 2.00 ... \n",
      "INFO  @ Sat, 16 Dec 2017 05:00:24: #4 Write output xls file... ./adameyko/task2_macs2_peaks.xls \n",
      "INFO  @ Sat, 16 Dec 2017 05:00:25: #4 Write peak bed file... ./adameyko/task2_macs2_peaks.bed \n",
      "INFO  @ Sat, 16 Dec 2017 05:00:25: #4 Write peak in narrowPeak format file... ./adameyko/task2_macs2_peaks.encodePeak \n",
      "INFO  @ Sat, 16 Dec 2017 05:00:25: #4 Write summits bed file... ./adameyko/task2_macs2_summits.bed \n"
     ]
    }
   ],
   "source": [
    "!{ssh} macs2 -c '~/chipseq/control.bed' -t '~/chipseq/experiment.bed' -g hs -n './adameyko/task2_macs2'"
   ]
  },
  {
   "cell_type": "code",
   "execution_count": 76,
   "metadata": {},
   "outputs": [
    {
     "name": "stdout",
     "output_type": "stream",
     "text": [
      "task2_macs2_model.pdf                         100%   21KB  21.4KB/s   00:00    \n"
     ]
    }
   ],
   "source": [
    "!{ssh} r ./adameyko/task2_macs2_model.r \n",
    "!{scp}~/adameyko/task2_macs2_model.pdf ."
   ]
  },
  {
   "cell_type": "code",
   "execution_count": 77,
   "metadata": {},
   "outputs": [
    {
     "data": {
      "text/html": [
       "\n",
       "        <iframe\n",
       "            width=\"400\"\n",
       "            height=\"430\"\n",
       "            src=\"./task2_macs2_model.pdf\"\n",
       "            frameborder=\"0\"\n",
       "            allowfullscreen\n",
       "        ></iframe>\n",
       "        "
      ],
      "text/plain": [
       "<IPython.lib.display.IFrame at 0x7feae3116898>"
      ]
     },
     "execution_count": 77,
     "metadata": {},
     "output_type": "execute_result"
    }
   ],
   "source": [
    "from IPython.display import IFrame\n",
    "IFrame('./task2_macs2_model.pdf', width=400, height=430)"
   ]
  },
  {
   "cell_type": "code",
   "execution_count": 199,
   "metadata": {},
   "outputs": [
    {
     "name": "stdout",
     "output_type": "stream",
     "text": [
      "chr1\t999016\t999135\tMACS_peak_1\t4.64\n",
      "chr1\t1050067\t1050243\tMACS_peak_2\t14.29\n",
      "chr1\t1684389\t1684525\tMACS_peak_3\t7.61\n",
      "chr1\t1923247\t1923420\tMACS_peak_4\t18.92\n",
      "chr1\t3266141\t3266348\tMACS_peak_5\t26.69\n",
      "chr1\t3493790\t3494030\tMACS_peak_6\t10.24\n",
      "chr1\t3531128\t3531270\tMACS_peak_7\t10.50\n",
      "chr1\t4609552\t4609703\tMACS_peak_8\t13.49\n",
      "chr1\t5580802\t5580936\tMACS_peak_9\t5.46\n",
      "chr1\t6395626\t6395824\tMACS_peak_10\t16.33\n",
      "7815 ./adameyko/task2_macs2_peaks.bed\n"
     ]
    }
   ],
   "source": [
    "!{ssh} head ./adameyko/task2_macs2_peaks.bed \n",
    "!{ssh} wc -l ./adameyko/task2_macs2_peaks.bed "
   ]
  },
  {
   "cell_type": "markdown",
   "metadata": {},
   "source": [
    "Видим, что пиков с помощью новой версии алгоритма получилось почти вдвое меньше. Посмотрим, сколько пиков из старых результатов перешли в новые. Согласно [документации функции `intersect`](http://bedtools.readthedocs.io/en/latest/content/tools/intersect.html), я использовал опцию `-u` для фильтрации  интервалов, которые пересекаются хотя бы в одной базе, но при этом если один интервал в А включает в себя два интервала в В, то этот интервал всё равно будет выведен только один раз, что мне и нужно."
   ]
  },
  {
   "cell_type": "code",
   "execution_count": 96,
   "metadata": {
    "scrolled": true
   },
   "outputs": [
    {
     "name": "stdout",
     "output_type": "stream",
     "text": [
      "chr1\t998954\t999229\tMACS_peak_2\t74.39\n",
      "chr1\t1050020\t1050286\tMACS_peak_3\t152.00\n",
      "chr1\t1684287\t1684577\tMACS_peak_4\t89.70\n",
      "chr1\t1923146\t1923449\tMACS_peak_7\t164.87\n",
      "chr1\t3265973\t3266359\tMACS_peak_12\t238.33\n",
      "chr1\t3493693\t3494178\tMACS_peak_15\t168.05\n",
      "chr1\t3531104\t3531295\tMACS_peak_16\t138.36\n",
      "chr1\t4609534\t4609770\tMACS_peak_21\t138.36\n",
      "chr1\t5580633\t5580999\tMACS_peak_22\t115.29\n",
      "chr1\t6395536\t6395952\tMACS_peak_25\t207.03\n",
      "7691 ./adameyko/task2_common_peaks.bed\n"
     ]
    }
   ],
   "source": [
    "m14bed = './adameyko/task2_macs14_peaks.bed'\n",
    "m2bed  = './adameyko/task2_macs2_peaks.bed'\n",
    "mcbed  = './adameyko/task2_common_peaks.bed'\n",
    "!{ssh} \"bedtools intersect -a {m14bed} -b {m2bed} -u > {mcbed}\"\n",
    "!{ssh} head {mcbed}\n",
    "!{ssh} wc -l {mcbed}"
   ]
  },
  {
   "cell_type": "code",
   "execution_count": 97,
   "metadata": {},
   "outputs": [
    {
     "data": {
      "text/plain": [
       "0.5658891913766463"
      ]
     },
     "execution_count": 97,
     "metadata": {},
     "output_type": "execute_result"
    }
   ],
   "source": [
    "7691 / 13591"
   ]
  },
  {
   "cell_type": "markdown",
   "metadata": {},
   "source": [
    "Итак, как можно видеть, всего лишь чуть больше половины пиков, найденных старой версией алгоритма, совпали каким-либо образом с пиками, найденными новой версией алгоритма. Разница видна и во времени выполнения: новый алгоритм работает в несколько раз медленнее: 13 минут против 1.5! А вот графики распределений не сильно отличаются."
   ]
  },
  {
   "cell_type": "markdown",
   "metadata": {},
   "source": [
    "## Задание 3\n",
    "1. Выбор пиков для для конкретной хромосомы:\n",
    "    `grep chr22 -w test_peaks.bed > peaks_chr22.bed`\n",
    "2. Экстракция последовательностей\n",
    "    `bedtools getfasta -fi [тут_относительный_путь_к_геному]/hg18/chr22.fa -bed peaks_chr22.bed -fo peaks_chr22.mfa`\n",
    "3. Поиск мотива\n",
    "    `java -jar [тут_относительный_путь_к_jar_файлу]/chipmunk.jar s:peaks_chr22.mfa > motif.log`\n",
    "   (из вывода нужно будет скопировать весовую матрицу - в самом конце файла вывода motif.log)\n",
    "    Если вам удастся скачать fasta-файл с последовательностями с сервера к себе - можно использовать веб-версию ChIPMunk: http://opera.autosome.ru/chipmunk/discovery/mono/new. Она картиночки рисует и дает скачать матрицу в удобном виде.\n",
    "\n",
    "4. *Выяснение какому белку мог бы принадлежать мотив (нужно будет достать матрицу из log-файла): MACRO-APE.\n",
    "<на сайте для желающих есть и консольная версия с инструкцией>\n",
    "\n",
    "5. **Определение позиционных предпочтений мотива в пиках (нужен будет дополнительный анализ файла результата + последовательностей):\n",
    "`java -jar ../sarus.jar peaks_chr22.mfa motif.log besthit > sarus.log`\n"
   ]
  },
  {
   "cell_type": "markdown",
   "metadata": {},
   "source": [
    "### Решение\n",
    "Я буду использовать пики, выданные более аккуратным алгоритмом macs2. Отфильтрую хромосому согласно варианту и извлеку последовательности, соответствующие пикам, в виде файлов fasta. Проверю, что в файлах всё хорошо."
   ]
  },
  {
   "cell_type": "code",
   "execution_count": 122,
   "metadata": {},
   "outputs": [
    {
     "name": "stdout",
     "output_type": "stream",
     "text": [
      "chr2\t100078\t100252\tMACS_peak_3286\t26.12\n",
      "chr2\t105395\t105547\tMACS_peak_3287\t8.43\n",
      "chr2\t250795\t251086\tMACS_peak_3288\t66.99\n",
      ">chr2:100078-100252\n",
      "TTTTCAACGTAAAGGTTACTTATGAGCTGACAAAAACCAATGCTAGCTGTGCCAAGATCTAACACAAACAGAAATTCCTACAATCAGAGGAAAGGGTAGAGGCTGTGTTTGTTTAAAAAGCTGATTATACACACATGTAATTGGTGTGTACTTTAAAGTAATGAGTTACATATT\n",
      ">chr2:105395-105547\n",
      "CCATAGCCTTGGTTCCCCTTGTCTGCTGCTTATGAAGCAAGATAAACATGCTGCCTCCTCCTGGTGCAGCTCTTGAAATGTTTTGACTTCCTGTCACTGGAGAGGTGTTGACATGCTCAGGGGAATGTTGGTGGAACTCACTCTGCATTCCA\n",
      ">chr2:250795-251086\n",
      "TTGAACTCTCTCAACCAAGCAGTATTAGAGCAAATAAGCAAATTCCTCAGTTGAGAGTTAATCTTGCAAACATCCTGCTGTAGGGAAAGGTCATGGCCTGATCTGTAAACACGGGAAGAGAGCCATTGGACTTGGGAATCAGATGCAGCCTCACACGGCTGCAGACCGCAAGACTCATCCTAGACACAGCTTATGTCACTGTGATCCAGCTGTTGACAAGGCTGGTCACAGTGAGGACATCTTCAGTGTGTCAGCTGAACTACAGAAAATGTTACAGATTCTAATCAACTT\n"
     ]
    }
   ],
   "source": [
    "task3 = './adameyko/task3_peaks_chr'\n",
    "!{ssh} \"grep {chr} -w {m2bed} > {task3}.bed\"\n",
    "!{ssh} head -n 3 {task3}.bed\n",
    "!{ssh} bedtools getfasta -fi './chipseq/hg18/{chr}.fa' -bed {task3}.bed -fo {task3}.mfa\n",
    "!{ssh} head -n 6 {task3}.mfa"
   ]
  },
  {
   "cell_type": "markdown",
   "metadata": {},
   "source": [
    "Запустим анализ..."
   ]
  },
  {
   "cell_type": "code",
   "execution_count": 129,
   "metadata": {
    "scrolled": false
   },
   "outputs": [],
   "source": [
    "!{ssh} \"java -jar './chipseq/chipmunk.jar' s:{task3}.mfa 1>{task3}_res.txt 2>{task3}.log\""
   ]
  },
  {
   "cell_type": "markdown",
   "metadata": {},
   "source": [
    "Проверим лог. Вроде всё хорошо, \"success\", хотя прогресс почему-то остановился на 30%, ну да ладно. "
   ]
  },
  {
   "cell_type": "code",
   "execution_count": 132,
   "metadata": {},
   "outputs": [
    {
     "name": "stdout",
     "output_type": "stream",
     "text": [
      "overall progress: 28% complete (motif discovery, length 11: 70.0% complete)\r\n",
      "overall progress: 29% complete (motif discovery, length 11: 80.0% complete)\r\n",
      "overall progress: 30% complete (motif discovery, length 11: 90.0% complete)\r\n",
      "success; best KDIC 0.5467287494225969\r\n",
      "checking motif strength...\r\n",
      "applying ZOOPS segmentation procedure...\r\n",
      "ZOOPS detected motif in 659 sequences of 703\r\n",
      "motif strength check not passed, taking previously found motif\r\n",
      "success; final motif length: 10\r\n",
      "estimating P-value...\r\n"
     ]
    }
   ],
   "source": [
    "!{ssh} tail {task3}.log"
   ]
  },
  {
   "cell_type": "markdown",
   "metadata": {},
   "source": [
    "#### Построение лого\n",
    "Так как `Biopython` не умеет строить лого по PSSM, я извёлк результат в виде счетов (PFM): "
   ]
  },
  {
   "cell_type": "code",
   "execution_count": 195,
   "metadata": {
    "scrolled": true
   },
   "outputs": [
    {
     "data": {
      "text/plain": [
       "['A|291.0 338.0 344.0 108.0 5.0 563.0 621.9999999999999 643.9999999999999 0.0 643.9999999999999',\n",
       " 'C|22.0 83.0 4.0 0.0 209.0 83.0 23.0 0.0 504.99999999999994 1.0',\n",
       " 'G|12.0 183.00000000000003 62.0 534.9999999999999 0.0 0.0 0.0 2.0 1.0 0.0',\n",
       " 'T|321.0 42.0 236.00000000000003 3.0 431.99999999999994 0.0 1.0 0.0 140.0 1.0']"
      ]
     },
     "execution_count": 195,
     "metadata": {},
     "output_type": "execute_result"
    }
   ],
   "source": [
    "pwm_txt = !! {ssh} tail -n 19 {task3}_res.txt | head -n 4\n",
    "pwm_txt"
   ]
  },
  {
   "cell_type": "code",
   "execution_count": 196,
   "metadata": {},
   "outputs": [
    {
     "data": {
      "text/plain": [
       "[[291, 338, 344, 108, 5, 563, 622, 644, 0, 644],\n",
       " [22, 83, 4, 0, 209, 83, 23, 0, 505, 1],\n",
       " [12, 183, 62, 535, 0, 0, 0, 2, 1, 0],\n",
       " [321, 42, 236, 3, 432, 0, 1, 0, 140, 1]]"
      ]
     },
     "execution_count": 196,
     "metadata": {},
     "output_type": "execute_result"
    }
   ],
   "source": [
    "pwm = [list(map(lambda x: round(float(x)), line[2:].split())) for line in pwm_txt]\n",
    "pwm"
   ]
  },
  {
   "cell_type": "code",
   "execution_count": 198,
   "metadata": {
    "scrolled": true
   },
   "outputs": [
    {
     "data": {
      "image/png": "[encoded data removed]",
      "text/plain": [
       "<IPython.core.display.Image object>"
      ]
     },
     "execution_count": 198,
     "metadata": {},
     "output_type": "execute_result"
    }
   ],
   "source": [
    "with open('./motif.pfm', 'w') as f:\n",
    "    for line in pwm:\n",
    "        print(*line, file=f)\n",
    "        \n",
    "from Bio import motifs\n",
    "with open('./motif.pfm') as f:\n",
    "    m = motifs.read(f, \"pfm\")\n",
    "\n",
    "m.weblogo('./logo.png')\n",
    "from IPython.display import Image\n",
    "Image('./logo.png')"
   ]
  },
  {
   "cell_type": "markdown",
   "metadata": {},
   "source": [
    "#### Поиск белка по мотиву\n",
    "Скачаем и распакуем базу HOCOMOCO, а также программу MACRO-APE."
   ]
  },
  {
   "cell_type": "code",
   "execution_count": 213,
   "metadata": {},
   "outputs": [
    {
     "name": "stdout",
     "output_type": "stream",
     "text": [
      "--2017-12-17 18:10:44--  http://hocomoco11.autosome.ru/final_bundle/hocomoco11/core/HUMAN/mono/HOCOMOCOv11_core_pwm_HUMAN_mono.tar.gz\n",
      "Resolving hocomoco11.autosome.ru (hocomoco11.autosome.ru)... 85.89.112.154\n",
      "Connecting to hocomoco11.autosome.ru (hocomoco11.autosome.ru)|85.89.112.154|:80... connected.\n",
      "HTTP request sent, awaiting response... 200 OK\n",
      "Length: 160565 (157K) [application/octet-stream]\n",
      "Saving to: ‘./adameyko/task4/HOCOMOCOv11_core_pwm_HUMAN_mono.tar.gz’\n",
      "\n",
      "     0K .......... .......... .......... .......... .......... 31%  114K 1s\n",
      "    50K .......... .......... .......... .......... .......... 63% 1,77M 0s\n",
      "   100K .......... .......... .......... .......... .......... 95% 1,04M 0s\n",
      "   150K ......                                                100%  270K=0,5s\n",
      "\n",
      "2017-12-17 18:10:45 (291 KB/s) - ‘./adameyko/task4/HOCOMOCOv11_core_pwm_HUMAN_mono.tar.gz’ saved [160565/160565]\n",
      "\n"
     ]
    }
   ],
   "source": [
    "task4 = './adameyko/task4'\n",
    "!{ssh} wget -nv -P {task4}/ http://hocomoco11.autosome.ru/final_bundle/hocomoco11/core/HUMAN/mono/HOCOMOCOv11_core_pwm_HUMAN_mono.tar.gz"
   ]
  },
  {
   "cell_type": "code",
   "execution_count": 225,
   "metadata": {},
   "outputs": [
    {
     "name": "stdout",
     "output_type": "stream",
     "text": [
      "AHR_HUMAN.H11MO.0.B.pwm\r\n",
      "AIRE_HUMAN.H11MO.0.C.pwm\r\n",
      "ALX1_HUMAN.H11MO.0.B.pwm\r\n",
      "ANDR_HUMAN.H11MO.0.A.pwm\r\n",
      "AP2A_HUMAN.H11MO.0.A.pwm\r\n"
     ]
    }
   ],
   "source": [
    "!{ssh} mkdir -p {task4}/hocomoco\n",
    "!{ssh} tar -zxf {task4}/HOCOMOCOv11_core_pwm_HUMAN_mono.tar.gz -C {task4}/hocomoco/\n",
    "!{ssh} ls {task4}/hocomoco/pwm | head -n 5"
   ]
  },
  {
   "cell_type": "code",
   "execution_count": 227,
   "metadata": {},
   "outputs": [
    {
     "name": "stdout",
     "output_type": "stream",
     "text": [
      "2017-12-17 18:17:08 URL:http://opera.autosome.ru/downloads/ape.jar [5043272/5043272] -> \"./adameyko/task4/ape.jar\" [1]\r\n"
     ]
    }
   ],
   "source": [
    "!{ssh} wget -nv -P {task4}/ http://opera.autosome.ru/downloads/ape.jar"
   ]
  },
  {
   "cell_type": "markdown",
   "metadata": {},
   "source": [
    "Извлечем теперь не PFM, а PSSM и скопируем её на сервер: "
   ]
  },
  {
   "cell_type": "code",
   "execution_count": 232,
   "metadata": {
    "scrolled": true
   },
   "outputs": [
    {
     "name": "stdout",
     "output_type": "stream",
     "text": [
      ">MOTIF\r\n",
      "0.584394953115 -1.93247559969 -2.48310161732 0.681996005152\r\n",
      "0.733348547498 -0.656328562236 0.123815174433 -1.31900899692\r\n",
      "0.75086122518 -3.36854971997 -0.941580293793 0.376191053784\r\n",
      "-0.397473168664 -4.61346671469 1.19081389732 -3.56457530659\r\n",
      "-3.20472416655 0.255572615806 -4.61346671469 0.977691244682\r\n",
      "1.24167683938 -0.656328562236 -4.61346671469 -4.61346671469\r\n",
      "1.3410654948 -1.89100633399 -4.61346671469 -4.13217600312\r\n",
      "1.37573550739 -4.61346671469 -3.80863359485 -4.61346671469\r\n",
      "-4.61346671469 1.13328465016 -4.13217600312 -0.141340852785\r\n",
      "1.37573550739 -4.13217600312 -4.61346671469 -4.13217600312\r\n"
     ]
    }
   ],
   "source": [
    "pwm_txt = !! {ssh} tail -n 14 {task3}_res.txt | head -n 4\n",
    "import numpy as np\n",
    "pwm = np.array([list(map(lambda x: float(x), line[5:].split())) for line in pwm_txt])\n",
    "with open('./motif_task4.pssm', 'w') as f:\n",
    "    print('>MOTIF', file=f)\n",
    "    for line in pwm.T:\n",
    "        print(*line, file=f)\n",
    "!cat './motif_task4.pssm'"
   ]
  },
  {
   "cell_type": "code",
   "execution_count": 234,
   "metadata": {},
   "outputs": [
    {
     "name": "stdout",
     "output_type": "stream",
     "text": [
      "\r",
      "motif_task4.pssm                                0%    0     0.0KB/s   --:-- ETA\r",
      "motif_task4.pssm                              100%  604     0.6KB/s   00:00    \r\n"
     ]
    }
   ],
   "source": [
    "!scp -P 9022 './motif_task4.pssm' 'student@mg.uncb.iitp.ru:{task4}/motif.pssm'"
   ]
  },
  {
   "cell_type": "markdown",
   "metadata": {},
   "source": [
    "**Наконец, запустим программу согласно разделу 5.1.1 [инструкции](http://opera.autosome.ru/downloads/MACRO-PERFECTOS-APE_manual.pdf):**"
   ]
  },
  {
   "cell_type": "code",
   "execution_count": 235,
   "metadata": {},
   "outputs": [
    {
     "name": "stdout",
     "output_type": "stream",
     "text": [
      "# MS: minimal similarity to output\r\n",
      "# P: P-value\r\n",
      "# PB: P-value boundary\r\n",
      "# V: discretization value\r\n",
      "# MS = 0.05\r\n",
      "# P = 5.0E-4\r\n",
      "# PB = upper\r\n",
      "# V = 1.0\r\n",
      "#\r\n",
      "# motif\tsimilarity\tshift\toverlap\torientation\r\n",
      "FOXQ1_HUMAN.H11MO.0.C\t0.07434531043867576\t1\t9\trevcomp\r\n",
      "FOXO4_HUMAN.H11MO.0.C\t0.09801324503311258\t2\t8\trevcomp\r\n",
      "ANDR_HUMAN.H11MO.0.A\t0.10269101633978282\t2\t8\trevcomp\r\n",
      "FOXJ3_HUMAN.H11MO.0.A\t0.1028699167402886\t-2\t10\trevcomp\r\n",
      "FOXP1_HUMAN.H11MO.0.A\t0.11197456729071\t3\t7\trevcomp\r\n",
      "FOXO1_HUMAN.H11MO.0.A\t0.14589307815377184\t2\t8\trevcomp\r\n",
      "FOXC1_HUMAN.H11MO.0.C\t0.157272491573762\t-2\t10\trevcomp\r\n",
      "FOXJ2_HUMAN.H11MO.0.C\t0.16842105263157894\t0\t10\trevcomp\r\n",
      "FOXK1_HUMAN.H11MO.0.A\t0.20421052631578948\t0\t10\trevcomp\r\n",
      "FOXO3_HUMAN.H11MO.0.B\t0.23605970149253733\t2\t8\trevcomp\r\n",
      "FOXP2_HUMAN.H11MO.0.C\t0.2560232989144824\t2\t8\trevcomp\r\n",
      "FOXM1_HUMAN.H11MO.0.A\t0.34997426659804426\t-2\t10\trevcomp\r\n",
      "FOXA3_HUMAN.H11MO.0.B\t0.3989217534763139\t-1\t10\trevcomp\r\n",
      "FOXA1_HUMAN.H11MO.0.A\t0.5120998045994288\t-2\t10\trevcomp\r\n",
      "FOXA2_HUMAN.H11MO.0.A\t0.5172776442307693\t-2\t10\trevcomp\r\n"
     ]
    }
   ],
   "source": [
    "!{ssh} java -cp {task4}/ape.jar ru.autosome.macroape.ScanCollection {task4}/motif.pssm {task4}/hocomoco/pwm"
   ]
  },
  {
   "cell_type": "markdown",
   "metadata": {},
   "source": [
    "По результатам анализа можно сказать, что данный белок скорее всего относится к семейству транскрипционных факторов FOX; в частности, наиболее высокой схожестью с матрицей выделенного мтоива обладают факторы FOXA1/2/3, так называемые *ядерные факторы гепатоцитов*, играющие важную роль в развитии печени и почек."
   ]
  }
 ],
 "metadata": {
  "kernelspec": {
   "display_name": "Python 3",
   "language": "python",
   "name": "python3"
  },
  "language_info": {
   "codemirror_mode": {
    "name": "ipython",
    "version": 3
   },
   "file_extension": ".py",
   "mimetype": "text/x-python",
   "name": "python",
   "nbconvert_exporter": "python",
   "pygments_lexer": "ipython3",
   "version": "3.6.1"
  }
 },
 "nbformat": 4,
 "nbformat_minor": 2
}
